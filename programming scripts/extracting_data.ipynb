{
 "cells": [
  {
   "cell_type": "code",
   "execution_count": null,
   "metadata": {},
   "outputs": [],
   "source": [
    "# Import libraries\n",
    "import pandas as pd\n",
    "import numpy as np\n",
    "import matplotlib.pyplot as plt\n",
    "import seaborn as sns\n",
    "import requests\n",
    "from bs4 import BeautifulSoup\n",
    "import io\n",
    "import re\n",
    "import json\n",
    "import time\n",
    "from datetime import datetime\n",
    "import warnings\n",
    "warnings.filterwarnings('ignore')\n",
    "from math import ceil\n",
    "import zipfile\n",
    "import os\n",
    "\n",
    "\n",
    "from azure.storage.blob import BlobServiceClient, BlobClient, ContainerClient\n",
    "import google.cloud.storage\n",
    "\n",
    "#Set up the azure storage\n",
    "CONNECTION_STRING = \"DefaultEndpointsProtocol=https;AccountName=stbusinesses;AccountKey=3Rytxhc0GguaI8g7OTZZc9ZWD1G2nzwfH5Ubuws2Pm6UAL78inYuJ5OZazCwpwkeTaXD4a5mS9R0+AStkP01QA==;EndpointSuffix=core.windows.net\"\n",
    "CONTAINER_NAME = \"stbusinesses\""
   ]
  },
  {
   "cell_type": "code",
   "execution_count": null,
   "metadata": {},
   "outputs": [],
   "source": [
    "def download_file(url):\n",
    "    response = requests.get(url)\n",
    "    return io.BytesIO(response.content)"
   ]
  },
  {
   "cell_type": "code",
   "execution_count": null,
   "metadata": {},
   "outputs": [],
   "source": [
    "def upload_to_azure(data, blob_name):\n",
    "    blob_service_client = BlobServiceClient.from_connection_string(CONNECTION_STRING)\n",
    "    container_client = blob_service_client.get_container_client(CONTAINER_NAME)\n",
    "    blob_client = container_client.get_blob_client(blob_name)\n",
    "    blob_client.upload_blob(data.getvalue(), overwrite=True)"
   ]
  },
  {
   "cell_type": "markdown",
   "metadata": {},
   "source": [
    "Loan data: \n",
    "\n",
    "Go to https://data.sba.gov/dataset/ppp-foia \n",
    "\n",
    "13 CSV files on this specific page that need to be uploaded \n",
    "\n",
    "Example link of file: https://data.sba.gov/dataset/8aa276e2-6cab-4f86-aca4-a7dde42adf24/resource/738e639c-1fbf-4e16-beb0-a223831011e8/download/public_150k_plus_230930.csv "
   ]
  },
  {
   "cell_type": "code",
   "execution_count": null,
   "metadata": {},
   "outputs": [],
   "source": [
    "# Function to process PPP loan data\n",
    "def process_ppp_loan_data():\n",
    "    #\n",
    "    base_url = \"https://data.sba.gov/dataset/ppp-foia\"\n",
    "    response = requests.get(base_url)\n",
    "    soup = BeautifulSoup(response.content, 'html.parser')\n",
    "\n",
    "    # Find the link to each CSV file\n",
    "    for link in soup.find_all('a', href=True):\n",
    "        if link['href'].endswith('.csv'):\n",
    "            file_url = link['href']\n",
    "            file_name = file_url.split('/')[-1]\n",
    "            print(f\"Processing {file_name}\")\n",
    "            file_content = download_file(file_url)\n",
    "            \n",
    "            # Process the CSV file if needed\n",
    "            df = pd.read_csv(file_content)\n",
    "            # Perform any necessary transformations on df\n",
    "            print(f\"Number of rows in {file_name}: {len(df)}\")\n",
    "            \n",
    "            # Upload to Azure\n",
    "            output = io.StringIO()\n",
    "            df.to_csv(output, index=False)\n",
    "            output.seek(0)\n",
    "            upload_to_azure(output, file_name)\n",
    "            print(f\"{file_name} uploaded to Azure successfully\")\n",
    "            \n"
   ]
  },
  {
   "cell_type": "markdown",
   "metadata": {},
   "source": [
    "NAICS codes: \n",
    "\n",
    "Go to https://www.census.gov/naics/?48967 \n",
    "\n",
    "Then, look for the most recent year's “NAICS Descriptions” XLSX file. In this case, it is “2022 NAICS Descriptions” and the link to the file is: \n",
    "\n",
    "https://www.census.gov/naics/2022NAICS/2022_NAICS_Descriptions.xlsx "
   ]
  },
  {
   "cell_type": "code",
   "execution_count": null,
   "metadata": {},
   "outputs": [],
   "source": [
    "def process_naics_data():\n",
    "    base_url = \"https://www.census.gov/naics/?48967\"\n",
    "    response = requests.get(base_url)\n",
    "    soup = BeautifulSoup(response.content, 'html.parser')\n",
    "\n",
    "    # Find the link to the latest NAICS Description XLXS file\n",
    "    for link in soup.find_all('a', href=True):\n",
    "        print(link['href'])\n",
    "\n"
   ]
  },
  {
   "cell_type": "markdown",
   "metadata": {},
   "source": [
    "GDP data: \n",
    "\n",
    "You should then download a Zip file: \n",
    "https://apps.bea.gov/regional/zip/CAGDP1.zip \n",
    "\n",
    "From this Zip file, we only need the CSV that reads\n",
    "“CAGDP1__ALL_AREAS”"
   ]
  },
  {
   "cell_type": "code",
   "execution_count": null,
   "metadata": {},
   "outputs": [],
   "source": [
    "# Function to process GDP data\n",
    "def process_gdp_data():\n",
    "    pass"
   ]
  },
  {
   "cell_type": "markdown",
   "metadata": {},
   "source": [
    "# Main "
   ]
  }
 ],
 "metadata": {
  "language_info": {
   "name": "python"
  }
 },
 "nbformat": 4,
 "nbformat_minor": 2
}
