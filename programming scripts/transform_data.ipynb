{
 "cells": [
  {
   "cell_type": "code",
   "execution_count": null,
   "metadata": {},
   "outputs": [],
   "source": [
    "from azure.storage.blob import BlobServiceClient, BlobClient, ContainerClient\n",
    "from sqlalchemy import create_engine\n",
    "import json\n",
    "import requests\n",
    "import io"
   ]
  },
  {
   "cell_type": "code",
   "execution_count": null,
   "metadata": {},
   "outputs": [],
   "source": [
    "# Read the JSON config file\n",
    "config_file_path = 'config.json'\n",
    "with open(config_file_path, 'r') as config_file:\n",
    "    config = json.load(config_file) \n",
    "\n",
    "# Get the connection string\n",
    "CONNECTION_STRING = config['AZURE_CONNECTION_STRING']"
   ]
  },
  {
   "cell_type": "code",
   "execution_count": null,
   "metadata": {},
   "outputs": [],
   "source": [
    "def upload_to_azure(data, blob_name, container_name):\n",
    "    \"\"\"\n",
    "    This function uploads the data to azure blob storage\n",
    "    data: data to be uploaded\n",
    "    blob_name: name of the blob\n",
    "    container_name: name of the container in the storage of the resource group \n",
    "    \"\"\"\n",
    "    blob_service_client = BlobServiceClient.from_connection_string(CONNECTION_STRING)\n",
    "    container_client = blob_service_client.get_container_client(container_name)\n",
    "    blob_client = blob_service_client.get_blob_client(container=container_name, blob=blob_name)\n",
    "    blob_client.upload_blob(data.getvalue(), overwrite=True)"
   ]
  },
  {
   "cell_type": "code",
   "execution_count": null,
   "metadata": {},
   "outputs": [],
   "source": [
    "def download_file(url):\n",
    "    response = requests.get(url)\n",
    "    return io.BytesIO(response.content)"
   ]
  },
  {
   "cell_type": "code",
   "execution_count": null,
   "metadata": {},
   "outputs": [],
   "source": [
    "def transform_ppp_loan_data():\n",
    "    return"
   ]
  },
  {
   "cell_type": "code",
   "execution_count": null,
   "metadata": {},
   "outputs": [],
   "source": [
    "def transform_naics_data():\n",
    "    return"
   ]
  },
  {
   "cell_type": "code",
   "execution_count": null,
   "metadata": {},
   "outputs": [],
   "source": [
    "def transform_gdp_data():\n",
    "    return"
   ]
  },
  {
   "cell_type": "code",
   "execution_count": null,
   "metadata": {},
   "outputs": [],
   "source": [
    "if __name__ == \"__main__\":\n",
    "    transform_ppp_loan_data()\n",
    "    transform_naics_data()\n",
    "    transform_gdp_data()"
   ]
  }
 ],
 "metadata": {
  "kernelspec": {
   "display_name": "base",
   "language": "python",
   "name": "python3"
  },
  "language_info": {
   "name": "python",
   "version": "3.11.4"
  }
 },
 "nbformat": 4,
 "nbformat_minor": 2
}
